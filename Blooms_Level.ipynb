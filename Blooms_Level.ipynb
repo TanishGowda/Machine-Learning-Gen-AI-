{
 "cells": [
  {
   "cell_type": "code",
   "execution_count": 1,
   "id": "26cb5ea8-7c45-41a0-8c52-fd265e8ce1d0",
   "metadata": {},
   "outputs": [
    {
     "name": "stdout",
     "output_type": "stream",
     "text": [
      "WARNING:tensorflow:From C:\\Users\\tanis\\anaconda3\\Lib\\site-packages\\tf_keras\\src\\losses.py:2976: The name tf.losses.sparse_softmax_cross_entropy is deprecated. Please use tf.compat.v1.losses.sparse_softmax_cross_entropy instead.\n",
      "\n"
     ]
    }
   ],
   "source": [
    "%matplotlib inline\n",
    "\n",
    "import pandas as pd\n",
    "import matplotlib.pyplot as plt\n",
    "from sklearn.model_selection import train_test_split\n",
    "\n",
    "import tensorflow as tf\n",
    "from tensorflow import keras\n",
    "from transformers import DistilBertTokenizer\n",
    "from transformers import TFDistilBertForSequenceClassification\n"
   ]
  },
  {
   "cell_type": "code",
   "execution_count": null,
   "id": "132ed0a5-e707-49c6-9114-f3164683681c",
   "metadata": {},
   "outputs": [],
   "source": [
    "!pip install tensorflow"
   ]
  },
  {
   "cell_type": "code",
   "execution_count": null,
   "id": "de17c1c5-e0b4-485f-b38b-0d0452f9519c",
   "metadata": {},
   "outputs": [],
   "source": [
    "!pip install transformers"
   ]
  },
  {
   "cell_type": "code",
   "execution_count": null,
   "id": "4ddfa02a-c8cf-4ff9-9e5f-a87e716d9c4e",
   "metadata": {},
   "outputs": [],
   "source": [
    "!pip install tf-keras"
   ]
  },
  {
   "cell_type": "code",
   "execution_count": null,
   "id": "67f5a42e-3b8a-42a6-8904-eeec7a181d8a",
   "metadata": {},
   "outputs": [],
   "source": [
    "!pip install scikit-learn"
   ]
  },
  {
   "cell_type": "code",
   "execution_count": 3,
   "id": "a6ace8c1-c745-45f5-9fe7-2350bdc3732c",
   "metadata": {},
   "outputs": [],
   "source": [
    "df = pd.read_csv('blooms_level Training.csv')"
   ]
  },
  {
   "cell_type": "code",
   "execution_count": 5,
   "id": "7f572006-5af7-462f-8c07-33217571d248",
   "metadata": {},
   "outputs": [
    {
     "name": "stdout",
     "output_type": "stream",
     "text": [
      "0      0\n",
      "1      1\n",
      "2      2\n",
      "3      3\n",
      "4      0\n",
      "      ..\n",
      "295    2\n",
      "296    5\n",
      "297    4\n",
      "298    1\n",
      "299    4\n",
      "Name: Label, Length: 300, dtype: int64\n"
     ]
    }
   ],
   "source": [
    "df['Questions'] = df['Questions'].str.replace(r'[^\\w\\s]+', '', regex=True)\n",
    "df['Questions'] = df['Questions'].str.lower()\n",
    "\n",
    "\n",
    "\n",
    "df['Label'] = pd.factorize(df.Label)[0]\n",
    "\n",
    "categories = ['Remember', 'Understand', 'Apply', 'Analyse', 'Evaluate', 'Create']\n",
    "\n",
    "\n",
    "df['Label'].value_counts()\n",
    "\n",
    "print(df['Label'])"
   ]
  },
  {
   "cell_type": "code",
   "execution_count": 7,
   "id": "740c4d68-54a6-4be0-9dc6-c552bc3f4576",
   "metadata": {},
   "outputs": [],
   "source": [
    "train, val = train_test_split(df, test_size=0.2, random_state=0)\n",
    "\n",
    "train['Label'].value_counts()\n",
    "\n",
    "balanced__train = train\n",
    "\n",
    "balanced__train['Label'].value_counts()\n",
    "\n",
    "train_texts = list(balanced__train['Questions'])\n",
    "train_labels = list(balanced__train['Label'])\n",
    "\n",
    "val_texts = list(val['Questions'])\n",
    "val_labels = list(val['Label'])"
   ]
  },
  {
   "cell_type": "code",
   "execution_count": 9,
   "id": "83dbe4ab-997d-4a05-9910-9efe38d03600",
   "metadata": {},
   "outputs": [],
   "source": [
    "tokenizer = DistilBertTokenizer.from_pretrained('distilbert-base-uncased')\n",
    "train_encodings = tokenizer(train_texts, truncation=True, padding=True)\n",
    "val_encodings = tokenizer(val_texts, truncation=True, padding=True)\n",
    "\n",
    "train_dataset = tf.data.Dataset.from_tensor_slices((\n",
    "    dict(train_encodings),\n",
    "    train_labels\n",
    "))\n",
    "\n",
    "val_dataset = tf.data.Dataset.from_tensor_slices((\n",
    "    dict(val_encodings),\n",
    "    val_labels\n",
    "))"
   ]
  },
  {
   "cell_type": "code",
   "execution_count": 11,
   "id": "88e71025-7e63-4fc2-b806-d33f6a8c9675",
   "metadata": {},
   "outputs": [
    {
     "name": "stdout",
     "output_type": "stream",
     "text": [
      "WARNING:tensorflow:From C:\\Users\\tanis\\anaconda3\\Lib\\site-packages\\tf_keras\\src\\backend.py:873: The name tf.get_default_graph is deprecated. Please use tf.compat.v1.get_default_graph instead.\n",
      "\n"
     ]
    },
    {
     "name": "stderr",
     "output_type": "stream",
     "text": [
      "Some weights of the PyTorch model were not used when initializing the TF 2.0 model TFDistilBertForSequenceClassification: ['vocab_transform.weight', 'vocab_projector.bias', 'vocab_layer_norm.bias', 'vocab_transform.bias', 'vocab_layer_norm.weight']\n",
      "- This IS expected if you are initializing TFDistilBertForSequenceClassification from a PyTorch model trained on another task or with another architecture (e.g. initializing a TFBertForSequenceClassification model from a BertForPreTraining model).\n",
      "- This IS NOT expected if you are initializing TFDistilBertForSequenceClassification from a PyTorch model that you expect to be exactly identical (e.g. initializing a TFBertForSequenceClassification model from a BertForSequenceClassification model).\n",
      "Some weights or buffers of the TF 2.0 model TFDistilBertForSequenceClassification were not initialized from the PyTorch model and are newly initialized: ['pre_classifier.weight', 'pre_classifier.bias', 'classifier.weight', 'classifier.bias']\n",
      "You should probably TRAIN this model on a down-stream task to be able to use it for predictions and inference.\n"
     ]
    },
    {
     "name": "stdout",
     "output_type": "stream",
     "text": [
      "Epoch 1/50\n",
      "WARNING:tensorflow:From C:\\Users\\tanis\\anaconda3\\Lib\\site-packages\\tf_keras\\src\\utils\\tf_utils.py:492: The name tf.ragged.RaggedTensorValue is deprecated. Please use tf.compat.v1.ragged.RaggedTensorValue instead.\n",
      "\n",
      "WARNING:tensorflow:From C:\\Users\\tanis\\anaconda3\\Lib\\site-packages\\tf_keras\\src\\engine\\base_layer_utils.py:384: The name tf.executing_eagerly_outside_functions is deprecated. Please use tf.compat.v1.executing_eagerly_outside_functions instead.\n",
      "\n",
      "10/10 [==============================] - 23s 1s/step - loss: 1.7878 - accuracy: 0.1958 - val_loss: 1.7853 - val_accuracy: 0.1500\n",
      "Epoch 2/50\n",
      "10/10 [==============================] - 11s 1s/step - loss: 1.7839 - accuracy: 0.1875 - val_loss: 1.7797 - val_accuracy: 0.1500\n",
      "Epoch 3/50\n",
      "10/10 [==============================] - 11s 1s/step - loss: 1.7821 - accuracy: 0.1917 - val_loss: 1.7730 - val_accuracy: 0.1500\n",
      "Epoch 4/50\n",
      "10/10 [==============================] - 12s 1s/step - loss: 1.7708 - accuracy: 0.2583 - val_loss: 1.7656 - val_accuracy: 0.1500\n",
      "Epoch 5/50\n",
      "10/10 [==============================] - 11s 1s/step - loss: 1.7684 - accuracy: 0.2417 - val_loss: 1.7575 - val_accuracy: 0.2500\n",
      "Epoch 6/50\n",
      "10/10 [==============================] - 11s 1s/step - loss: 1.7594 - accuracy: 0.3000 - val_loss: 1.7479 - val_accuracy: 0.2833\n",
      "Epoch 7/50\n",
      "10/10 [==============================] - 11s 1s/step - loss: 1.7488 - accuracy: 0.3583 - val_loss: 1.7368 - val_accuracy: 0.4833\n",
      "Epoch 8/50\n",
      "10/10 [==============================] - 11s 1s/step - loss: 1.7385 - accuracy: 0.3958 - val_loss: 1.7251 - val_accuracy: 0.4833\n",
      "Epoch 9/50\n",
      "10/10 [==============================] - 11s 1s/step - loss: 1.7264 - accuracy: 0.4375 - val_loss: 1.7133 - val_accuracy: 0.5000\n",
      "Epoch 10/50\n",
      "10/10 [==============================] - 11s 1s/step - loss: 1.7091 - accuracy: 0.4708 - val_loss: 1.7010 - val_accuracy: 0.4167\n",
      "Epoch 11/50\n",
      "10/10 [==============================] - 11s 1s/step - loss: 1.7063 - accuracy: 0.4833 - val_loss: 1.6885 - val_accuracy: 0.4167\n",
      "Epoch 12/50\n",
      "10/10 [==============================] - 11s 1s/step - loss: 1.6895 - accuracy: 0.4917 - val_loss: 1.6758 - val_accuracy: 0.4167\n",
      "Epoch 13/50\n",
      "10/10 [==============================] - 11s 1s/step - loss: 1.6767 - accuracy: 0.5417 - val_loss: 1.6624 - val_accuracy: 0.4667\n",
      "Epoch 14/50\n",
      "10/10 [==============================] - 11s 1s/step - loss: 1.6678 - accuracy: 0.5417 - val_loss: 1.6487 - val_accuracy: 0.5333\n",
      "Epoch 15/50\n",
      "10/10 [==============================] - 11s 1s/step - loss: 1.6478 - accuracy: 0.6000 - val_loss: 1.6344 - val_accuracy: 0.6000\n",
      "Epoch 16/50\n",
      "10/10 [==============================] - 11s 1s/step - loss: 1.6388 - accuracy: 0.5667 - val_loss: 1.6199 - val_accuracy: 0.6000\n",
      "Epoch 17/50\n",
      "10/10 [==============================] - 11s 1s/step - loss: 1.6263 - accuracy: 0.6292 - val_loss: 1.6047 - val_accuracy: 0.6167\n",
      "Epoch 18/50\n",
      "10/10 [==============================] - 11s 1s/step - loss: 1.6089 - accuracy: 0.6375 - val_loss: 1.5890 - val_accuracy: 0.6167\n",
      "Epoch 19/50\n",
      "10/10 [==============================] - 11s 1s/step - loss: 1.5953 - accuracy: 0.6667 - val_loss: 1.5728 - val_accuracy: 0.6667\n",
      "Epoch 20/50\n",
      "10/10 [==============================] - 11s 1s/step - loss: 1.5814 - accuracy: 0.6917 - val_loss: 1.5562 - val_accuracy: 0.6667\n",
      "Epoch 21/50\n",
      "10/10 [==============================] - 12s 1s/step - loss: 1.5572 - accuracy: 0.7125 - val_loss: 1.5394 - val_accuracy: 0.6833\n",
      "Epoch 22/50\n",
      "10/10 [==============================] - 13s 1s/step - loss: 1.5478 - accuracy: 0.7167 - val_loss: 1.5222 - val_accuracy: 0.7167\n",
      "Epoch 23/50\n",
      "10/10 [==============================] - 12s 1s/step - loss: 1.5286 - accuracy: 0.7417 - val_loss: 1.5046 - val_accuracy: 0.7333\n",
      "Epoch 24/50\n",
      "10/10 [==============================] - 11s 1s/step - loss: 1.5083 - accuracy: 0.7917 - val_loss: 1.4867 - val_accuracy: 0.7333\n",
      "Epoch 25/50\n",
      "10/10 [==============================] - 12s 1s/step - loss: 1.4937 - accuracy: 0.8000 - val_loss: 1.4688 - val_accuracy: 0.7500\n",
      "Epoch 26/50\n",
      "10/10 [==============================] - 12s 1s/step - loss: 1.4788 - accuracy: 0.8042 - val_loss: 1.4505 - val_accuracy: 0.7667\n",
      "Epoch 27/50\n",
      "10/10 [==============================] - 11s 1s/step - loss: 1.4557 - accuracy: 0.8292 - val_loss: 1.4318 - val_accuracy: 0.7667\n",
      "Epoch 28/50\n",
      "10/10 [==============================] - 11s 1s/step - loss: 1.4415 - accuracy: 0.8417 - val_loss: 1.4126 - val_accuracy: 0.8000\n",
      "Epoch 29/50\n",
      "10/10 [==============================] - 11s 1s/step - loss: 1.4215 - accuracy: 0.8542 - val_loss: 1.3931 - val_accuracy: 0.8167\n",
      "Epoch 30/50\n",
      "10/10 [==============================] - 12s 1s/step - loss: 1.4001 - accuracy: 0.8458 - val_loss: 1.3731 - val_accuracy: 0.8167\n",
      "Epoch 31/50\n",
      "10/10 [==============================] - 12s 1s/step - loss: 1.3881 - accuracy: 0.8792 - val_loss: 1.3533 - val_accuracy: 0.8167\n",
      "Epoch 32/50\n",
      "10/10 [==============================] - 12s 1s/step - loss: 1.3688 - accuracy: 0.8625 - val_loss: 1.3334 - val_accuracy: 0.8167\n",
      "Epoch 33/50\n",
      "10/10 [==============================] - 12s 1s/step - loss: 1.3489 - accuracy: 0.8958 - val_loss: 1.3135 - val_accuracy: 0.8500\n",
      "Epoch 34/50\n",
      "10/10 [==============================] - 12s 1s/step - loss: 1.3256 - accuracy: 0.9333 - val_loss: 1.2938 - val_accuracy: 0.8500\n",
      "Epoch 35/50\n",
      "10/10 [==============================] - 13s 1s/step - loss: 1.3120 - accuracy: 0.9042 - val_loss: 1.2738 - val_accuracy: 0.8500\n",
      "Epoch 36/50\n",
      "10/10 [==============================] - 13s 1s/step - loss: 1.2843 - accuracy: 0.8958 - val_loss: 1.2535 - val_accuracy: 0.8833\n",
      "Epoch 37/50\n",
      "10/10 [==============================] - 12s 1s/step - loss: 1.2596 - accuracy: 0.9250 - val_loss: 1.2336 - val_accuracy: 0.9000\n",
      "Epoch 38/50\n",
      "10/10 [==============================] - 13s 1s/step - loss: 1.2468 - accuracy: 0.9375 - val_loss: 1.2138 - val_accuracy: 0.9000\n",
      "Epoch 39/50\n",
      "10/10 [==============================] - 12s 1s/step - loss: 1.2209 - accuracy: 0.9375 - val_loss: 1.1940 - val_accuracy: 0.9000\n",
      "Epoch 40/50\n",
      "10/10 [==============================] - 12s 1s/step - loss: 1.2058 - accuracy: 0.9458 - val_loss: 1.1733 - val_accuracy: 0.9000\n",
      "Epoch 41/50\n",
      "10/10 [==============================] - 12s 1s/step - loss: 1.1834 - accuracy: 0.9625 - val_loss: 1.1531 - val_accuracy: 0.9667\n",
      "Epoch 42/50\n",
      "10/10 [==============================] - 11s 1s/step - loss: 1.1611 - accuracy: 0.9667 - val_loss: 1.1326 - val_accuracy: 0.9667\n",
      "Epoch 43/50\n",
      "10/10 [==============================] - 12s 1s/step - loss: 1.1424 - accuracy: 0.9708 - val_loss: 1.1121 - val_accuracy: 0.9667\n",
      "Epoch 44/50\n",
      "10/10 [==============================] - 11s 1s/step - loss: 1.1226 - accuracy: 0.9625 - val_loss: 1.0908 - val_accuracy: 0.9667\n",
      "Epoch 45/50\n",
      "10/10 [==============================] - 11s 1s/step - loss: 1.1033 - accuracy: 0.9625 - val_loss: 1.0697 - val_accuracy: 0.9667\n",
      "Epoch 46/50\n",
      "10/10 [==============================] - 11s 1s/step - loss: 1.0809 - accuracy: 0.9708 - val_loss: 1.0487 - val_accuracy: 0.9667\n",
      "Epoch 47/50\n",
      "10/10 [==============================] - 11s 1s/step - loss: 1.0571 - accuracy: 1.0000 - val_loss: 1.0288 - val_accuracy: 0.9667\n",
      "Epoch 48/50\n",
      "10/10 [==============================] - 11s 1s/step - loss: 1.0341 - accuracy: 0.9750 - val_loss: 1.0080 - val_accuracy: 0.9667\n",
      "Epoch 49/50\n",
      "10/10 [==============================] - 11s 1s/step - loss: 1.0232 - accuracy: 0.9875 - val_loss: 0.9868 - val_accuracy: 0.9667\n",
      "Epoch 50/50\n",
      "10/10 [==============================] - 11s 1s/step - loss: 1.0052 - accuracy: 0.9833 - val_loss: 0.9664 - val_accuracy: 0.9667\n",
      "Restoring model weights from the end of the best epoch: 50.\n"
     ]
    }
   ],
   "source": [
    "LEARNING_RATE = 0.000001\n",
    "BATCH_SIZE = 24\n",
    "EPOCHS = 50\n",
    "\n",
    "model = TFDistilBertForSequenceClassification.from_pretrained('distilbert-base-uncased', num_labels=6)\n",
    "\n",
    "optimizer = keras.optimizers.Adam(learning_rate=LEARNING_RATE)\n",
    "\n",
    "model.compile(optimizer=optimizer, loss=model.hf_compute_loss, metrics=['accuracy'])\n",
    "\n",
    "callback = tf.keras.callbacks.EarlyStopping(monitor='val_loss', patience=3, verbose=1, restore_best_weights=True)\n",
    "\n",
    "history = model.fit(train_dataset.batch(BATCH_SIZE), epochs=EPOCHS, batch_size=BATCH_SIZE,\n",
    "          validation_data=val_dataset.batch(BATCH_SIZE), shuffle=True, callbacks=[callback])\n",
    "\n",
    "category_dict = {0: 'remember', 1: 'understand', 2: 'apply', 3: 'analyse', 4: 'evaluate', 5: 'create'}\n",
    "\n",
    "def predict_blooms(text):\n",
    "    predict_input = tokenizer.encode(text,\n",
    "                                     truncation=True,\n",
    "                                     padding=True,\n",
    "                                     return_tensors=\"tf\")\n",
    "\n",
    "    output = model(predict_input)[0]\n",
    "\n",
    "    prediction_value = tf.argmax(output, axis=1).numpy()[0]\n",
    "\n",
    "    return category_dict[prediction_value]\n",
    "\n"
   ]
  },
  {
   "cell_type": "code",
   "execution_count": 13,
   "id": "1c0b5af1-4454-431a-8f93-c4c9b01d18c0",
   "metadata": {},
   "outputs": [
    {
     "name": "stdout",
     "output_type": "stream",
     "text": [
      "Design an algorithm to implement the A* search algorithm for pathfinding.\n",
      "Predicted Class: understand\n"
     ]
    }
   ],
   "source": [
    "test_text = \"Design an algorithm to implement the A* search algorithm for pathfinding.\"\n",
    "\n",
    "print(test_text)\n",
    "print(\"Predicted Class:\", predict_blooms(test_text))"
   ]
  },
  {
   "cell_type": "code",
   "execution_count": null,
   "id": "b6c84d79-1f2c-4bdf-a27e-dc481095cfe7",
   "metadata": {},
   "outputs": [],
   "source": []
  }
 ],
 "metadata": {
  "kernelspec": {
   "display_name": "Python 3 (ipykernel)",
   "language": "python",
   "name": "python3"
  },
  "language_info": {
   "codemirror_mode": {
    "name": "ipython",
    "version": 3
   },
   "file_extension": ".py",
   "mimetype": "text/x-python",
   "name": "python",
   "nbconvert_exporter": "python",
   "pygments_lexer": "ipython3",
   "version": "3.12.7"
  }
 },
 "nbformat": 4,
 "nbformat_minor": 5
}
